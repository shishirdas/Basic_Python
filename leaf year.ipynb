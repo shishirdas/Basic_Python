{
 "cells": [
  {
   "cell_type": "code",
   "execution_count": 1,
   "metadata": {},
   "outputs": [
    {
     "name": "stdout",
     "output_type": "stream",
     "text": [
      "Enter Year = 1992\n",
      "1992 ,It is a leap year\n"
     ]
    }
   ],
   "source": [
    "year = int(input(\"Enter Year = \"))\n",
    "if year%400==0 and year%100==0:\n",
    "    print(year,\",It is a leap year\")\n",
    "elif year%4==0 and year%100!=0:\n",
    "    print(year,\",It is a leap year\")\n",
    "else:\n",
    "    print(year, \",It is not leap year\")"
   ]
  },
  {
   "cell_type": "code",
   "execution_count": null,
   "metadata": {},
   "outputs": [],
   "source": []
  }
 ],
 "metadata": {
  "kernelspec": {
   "display_name": "Python 3",
   "language": "python",
   "name": "python3"
  },
  "language_info": {
   "codemirror_mode": {
    "name": "ipython",
    "version": 3
   },
   "file_extension": ".py",
   "mimetype": "text/x-python",
   "name": "python",
   "nbconvert_exporter": "python",
   "pygments_lexer": "ipython3",
   "version": "3.7.4"
  }
 },
 "nbformat": 4,
 "nbformat_minor": 2
}
