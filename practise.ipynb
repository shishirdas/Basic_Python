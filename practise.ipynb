{
 "cells": [
  {
   "cell_type": "code",
   "execution_count": 2,
   "metadata": {},
   "outputs": [
    {
     "name": "stdout",
     "output_type": "stream",
     "text": [
      "Hi\n",
      "Mike\n"
     ]
    }
   ],
   "source": [
    "x=1\n",
    "\n",
    "if(x!=1):\n",
    "\n",
    "    print('Hello')\n",
    "\n",
    "else:\n",
    "\n",
    "    print('Hi')\n",
    "\n",
    "print('Mike')"
   ]
  },
  {
   "cell_type": "code",
   "execution_count": 3,
   "metadata": {},
   "outputs": [
    {
     "name": "stdout",
     "output_type": "stream",
     "text": [
      "11\n",
      "22\n",
      "33\n"
     ]
    }
   ],
   "source": [
    "A = ['1','2','3']\n",
    "\n",
    "for a in A:\n",
    "\n",
    "    print(2*a)"
   ]
  },
  {
   "cell_type": "code",
   "execution_count": 6,
   "metadata": {},
   "outputs": [],
   "source": [
    "def Delta(x):\n",
    "\n",
    "    if x==0:\n",
    "\n",
    "        y=1;\n",
    "\n",
    "    else:\n",
    "\n",
    "        y=0;\n",
    "\n",
    "    return(y)"
   ]
  },
  {
   "cell_type": "code",
   "execution_count": 8,
   "metadata": {},
   "outputs": [
    {
     "name": "stdout",
     "output_type": "stream",
     "text": [
      "['a', 'b']\n",
      "my_dict\n"
     ]
    }
   ],
   "source": [
    "my_dict = {'a': 1, 'b': 2}\n",
    "keys = my_dict.keys()\n",
    "print(list(keys)) # Output: ['a', 'b']\n",
    "print(\"my_dict\")\n"
   ]
  },
  {
   "cell_type": "code",
   "execution_count": null,
   "metadata": {},
   "outputs": [],
   "source": []
  }
 ],
 "metadata": {
  "kernelspec": {
   "display_name": "Python 3",
   "language": "python",
   "name": "python3"
  },
  "language_info": {
   "codemirror_mode": {
    "name": "ipython",
    "version": 3
   },
   "file_extension": ".py",
   "mimetype": "text/x-python",
   "name": "python",
   "nbconvert_exporter": "python",
   "pygments_lexer": "ipython3",
   "version": "3.7.4"
  }
 },
 "nbformat": 4,
 "nbformat_minor": 2
}
