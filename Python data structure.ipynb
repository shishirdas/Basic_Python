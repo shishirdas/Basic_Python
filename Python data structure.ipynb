{
 "cells": [
  {
   "cell_type": "markdown",
   "metadata": {},
   "source": [
    "### List Slicing\n"
   ]
  },
  {
   "cell_type": "code",
   "execution_count": 14,
   "metadata": {},
   "outputs": [
    {
     "name": "stdout",
     "output_type": "stream",
     "text": [
      "[['abul', 'babul', 'cabul', 'dabul'], [1111, 2222, 3333, 4444]]\n",
      "['abul', 'babul', 'cabul', 'dabul']\n",
      "[1111, 2222, 3333, 4444]\n",
      "abul\n",
      "1111\n"
     ]
    }
   ],
   "source": [
    "name = [\"abul\", \"babul\", \"cabul\", \"dabul\"]\n",
    "contact = [1111, 2222, 3333, 4444]\n",
    "\n",
    "phone_contacts = [name, contact]\n",
    "print(phone_contacts)\n",
    "\n",
    "print(phone_contacts[0])\n",
    "print(phone_contacts[1])\n",
    "print(phone_contacts[0][0])\n",
    "print(phone_contacts[1][0])"
   ]
  },
  {
   "cell_type": "markdown",
   "metadata": {},
   "source": [
    "#### Checking length of a string\n"
   ]
  },
  {
   "cell_type": "code",
   "execution_count": 15,
   "metadata": {},
   "outputs": [
    {
     "name": "stdout",
     "output_type": "stream",
     "text": [
      "2\n",
      "4\n",
      "4\n",
      "5\n"
     ]
    }
   ],
   "source": [
    "print(len(phone_contacts))\n",
    "print(len(phone_contacts[0]))\n",
    "print(len(phone_contacts[1]))\n",
    "print(len(phone_contacts[0][1]))"
   ]
  },
  {
   "cell_type": "markdown",
   "metadata": {},
   "source": [
    "#### Checking the presence of an element in a list\n"
   ]
  },
  {
   "cell_type": "code",
   "execution_count": 16,
   "metadata": {},
   "outputs": [
    {
     "data": {
      "text/plain": [
       "True"
      ]
     },
     "execution_count": 16,
     "metadata": {},
     "output_type": "execute_result"
    }
   ],
   "source": [
    "\"abul\" not in phone_contacts\n"
   ]
  },
  {
   "cell_type": "markdown",
   "metadata": {},
   "source": [
    "#### Insert a new element in the list\n"
   ]
  },
  {
   "cell_type": "code",
   "execution_count": 17,
   "metadata": {},
   "outputs": [
    {
     "name": "stdout",
     "output_type": "stream",
     "text": [
      "[2, 4, 0, 6, 8, 10]\n"
     ]
    }
   ],
   "source": [
    "even = [2, 4, 6, 8, 10]\n",
    "even.insert(2, 0)\n",
    "print(even)\n",
    "\n"
   ]
  },
  {
   "cell_type": "code",
   "execution_count": 18,
   "metadata": {},
   "outputs": [
    {
     "name": "stdout",
     "output_type": "stream",
     "text": [
      "[2, 4, 0, 6, 8, 10, 12]\n"
     ]
    }
   ],
   "source": [
    "even.append(12)\n",
    "\n",
    "print(even)"
   ]
  },
  {
   "cell_type": "markdown",
   "metadata": {},
   "source": [
    "#### How to reverse a list?\n"
   ]
  },
  {
   "cell_type": "code",
   "execution_count": 19,
   "metadata": {},
   "outputs": [
    {
     "name": "stdout",
     "output_type": "stream",
     "text": [
      "[7, 8, 4, -9, 9, 3, -1, -1, 0]\n"
     ]
    }
   ],
   "source": [
    "nums = [0,-1,-1,3,9,-9,4,8,7]\n",
    "nums.reverse()\n",
    "print(nums)\n"
   ]
  },
  {
   "cell_type": "markdown",
   "metadata": {},
   "source": [
    "#### How to count the frequency of a specific element in a list?\n"
   ]
  },
  {
   "cell_type": "code",
   "execution_count": 20,
   "metadata": {},
   "outputs": [
    {
     "name": "stdout",
     "output_type": "stream",
     "text": [
      "2\n"
     ]
    }
   ],
   "source": [
    "print(nums.count(-1))"
   ]
  },
  {
   "cell_type": "markdown",
   "metadata": {},
   "source": [
    "#### How to remove an element from a list?\n"
   ]
  },
  {
   "cell_type": "code",
   "execution_count": 21,
   "metadata": {},
   "outputs": [
    {
     "name": "stdout",
     "output_type": "stream",
     "text": [
      "[7, 8, 4, -9, 3, -1, -1, 0]\n"
     ]
    }
   ],
   "source": [
    "nums.remove(9)\n",
    "print(nums)"
   ]
  },
  {
   "cell_type": "markdown",
   "metadata": {},
   "source": [
    "#### How to find the minimum value, maximum value and total sum of a list?\n"
   ]
  },
  {
   "cell_type": "code",
   "execution_count": 22,
   "metadata": {},
   "outputs": [
    {
     "name": "stdout",
     "output_type": "stream",
     "text": [
      "maximum value =  8\n",
      "minimum value =  -9\n",
      "total sum =  11\n"
     ]
    }
   ],
   "source": [
    "print(\"maximum value = \", max(nums))\n",
    "print(\"minimum value = \", min(nums))\n",
    "print(\"total sum = \", sum(nums))"
   ]
  },
  {
   "cell_type": "markdown",
   "metadata": {},
   "source": [
    "#### What will happen if you add two lists?\n"
   ]
  },
  {
   "cell_type": "code",
   "execution_count": 23,
   "metadata": {},
   "outputs": [
    {
     "name": "stdout",
     "output_type": "stream",
     "text": [
      "A + B =  [9, 8, 7, 6, 99, 88, 77, 66]\n"
     ]
    }
   ],
   "source": [
    "A = [9, 8, 7, 6]\n",
    "B = [99, 88, 77, 66]\n",
    "print(\"A + B = \", A + B) #will contain all the element of A and B"
   ]
  },
  {
   "cell_type": "markdown",
   "metadata": {},
   "source": [
    "#### How to sort a list?\n"
   ]
  },
  {
   "cell_type": "code",
   "execution_count": 26,
   "metadata": {},
   "outputs": [
    {
     "name": "stdout",
     "output_type": "stream",
     "text": [
      "[9, 8, 7, 6]\n",
      "[6, 7, 8, 9]\n"
     ]
    }
   ],
   "source": [
    "print(sorted(A, reverse=True))\n",
    "print(sorted(A, reverse= False))\n"
   ]
  },
  {
   "cell_type": "markdown",
   "metadata": {},
   "source": [
    "### Tuple"
   ]
  },
  {
   "cell_type": "code",
   "execution_count": 27,
   "metadata": {},
   "outputs": [
    {
     "name": "stdout",
     "output_type": "stream",
     "text": [
      "<class 'tuple'>\n"
     ]
    }
   ],
   "source": [
    "a = ('the', 'fault', 'in', 'our', 'stars')\n",
    "print(type(a))"
   ]
  },
  {
   "cell_type": "markdown",
   "metadata": {},
   "source": [
    "#### Tuple slicing\n"
   ]
  },
  {
   "cell_type": "code",
   "execution_count": 28,
   "metadata": {},
   "outputs": [
    {
     "name": "stdout",
     "output_type": "stream",
     "text": [
      "the\n",
      "stars\n",
      "('fault', 'in')\n"
     ]
    }
   ],
   "source": [
    "print(a[0])\n",
    "print(a[-1])\n",
    "print(a[1:3])"
   ]
  },
  {
   "cell_type": "markdown",
   "metadata": {},
   "source": [
    "#### Immutability"
   ]
  },
  {
   "cell_type": "code",
   "execution_count": 30,
   "metadata": {},
   "outputs": [
    {
     "ename": "TypeError",
     "evalue": "'tuple' object does not support item assignment",
     "output_type": "error",
     "traceback": [
      "\u001b[1;31m---------------------------------------------------------------------------\u001b[0m",
      "\u001b[1;31mTypeError\u001b[0m                                 Traceback (most recent call last)",
      "\u001b[1;32m<ipython-input-30-ec56df5e3a23>\u001b[0m in \u001b[0;36m<module>\u001b[1;34m\u001b[0m\n\u001b[0;32m      1\u001b[0m \u001b[0mT\u001b[0m \u001b[1;33m=\u001b[0m \u001b[1;33m(\u001b[0m\u001b[1;36m8\u001b[0m\u001b[1;33m,\u001b[0m \u001b[1;36m9\u001b[0m\u001b[1;33m,\u001b[0m \u001b[1;34m'absolute'\u001b[0m\u001b[1;33m,\u001b[0m \u001b[1;33m[\u001b[0m\u001b[1;36m1\u001b[0m\u001b[1;33m,\u001b[0m \u001b[1;36m2\u001b[0m\u001b[1;33m]\u001b[0m\u001b[1;33m)\u001b[0m\u001b[1;33m\u001b[0m\u001b[1;33m\u001b[0m\u001b[0m\n\u001b[0;32m      2\u001b[0m \u001b[1;31m# T[0] = 2 #will throw an error\u001b[0m\u001b[1;33m\u001b[0m\u001b[1;33m\u001b[0m\u001b[1;33m\u001b[0m\u001b[0m\n\u001b[1;32m----> 3\u001b[1;33m \u001b[0mT\u001b[0m\u001b[1;33m[\u001b[0m\u001b[1;36m0\u001b[0m\u001b[1;33m]\u001b[0m \u001b[1;33m=\u001b[0m \u001b[1;36m2\u001b[0m\u001b[1;33m\u001b[0m\u001b[1;33m\u001b[0m\u001b[0m\n\u001b[0m",
      "\u001b[1;31mTypeError\u001b[0m: 'tuple' object does not support item assignment"
     ]
    }
   ],
   "source": [
    "T = (8, 9, 'absolute', [1, 2])\n",
    "# T[0] = 2 #will throw an error\n",
    "T[0] = 2"
   ]
  },
  {
   "cell_type": "markdown",
   "metadata": {},
   "source": [
    "#### You cannot change any value inside a tuple and you cannot insert or delete as well\n",
    "\n"
   ]
  },
  {
   "cell_type": "markdown",
   "metadata": {},
   "source": [
    "#some functions that can be used with tuple\n",
    "Z = (2, 7, 1)\n",
    "print(len(Z))\n",
    "print(max(Z))\n",
    "print(min(Z))\n",
    "print(sum(Z))\n",
    "print(Z.count(2))"
   ]
  },
  {
   "cell_type": "markdown",
   "metadata": {},
   "source": [
    "#### Set\n",
    "It works with a curly brace--> {} <br>\n",
    "One item can appear only once<br>\n",
    "You cannot slice item from set, unlike lists or tuples"
   ]
  },
  {
   "cell_type": "code",
   "execution_count": 33,
   "metadata": {},
   "outputs": [
    {
     "name": "stdout",
     "output_type": "stream",
     "text": [
      "{12, 13, 14}\n",
      "<class 'set'>\n",
      "3\n",
      "[12, 13, 14]\n",
      "{1, 2, 3, 4, 5, 7, 9}\n",
      "{1, 9, 7}\n",
      "{3, 5}\n"
     ]
    }
   ],
   "source": [
    "A = {12, 13, 14, 12}\n",
    "print(A) \n",
    "print(type(A))\n",
    "print(len(A))\n",
    "\n",
    "# convert to list\n",
    "A_converted = list(A)\n",
    "print(A_converted)\n",
    "\n",
    "A = {1, 3, 5, 7, 9}\n",
    "B = {1, 2, 4, 7, 9}\n",
    "\n",
    "print(A.union(B))\n",
    "print(A.intersection(B))\n",
    "print(A.difference(B))"
   ]
  },
  {
   "cell_type": "markdown",
   "metadata": {},
   "source": [
    "### Dictionary"
   ]
  },
  {
   "cell_type": "code",
   "execution_count": 34,
   "metadata": {},
   "outputs": [
    {
     "name": "stdout",
     "output_type": "stream",
     "text": [
      "{'abul': 1111, 'babul': 2222, 'cabul': 3333, 'dabul': 4444}\n",
      "1111\n",
      "2222\n",
      "3333\n",
      "4444\n",
      "dict_keys(['abul', 'babul', 'cabul', 'dabul'])\n",
      "dict_values([1111, 2222, 3333, 4444])\n"
     ]
    }
   ],
   "source": [
    "phone_contacts = {\"abul\":1111, \"babul\":2222, \"cabul\":3333, \"dabul\":4444}\n",
    "\n",
    "print(phone_contacts)\n",
    "print(phone_contacts[\"abul\"])\n",
    "print(phone_contacts[\"babul\"])\n",
    "print(phone_contacts[\"cabul\"])\n",
    "print(phone_contacts[\"dabul\"])\n",
    "\n",
    "print(phone_contacts.keys())\n",
    "print(phone_contacts.values())\n",
    "# print(phone_contacts.items())"
   ]
  },
  {
   "cell_type": "code",
   "execution_count": 37,
   "metadata": {},
   "outputs": [
    {
     "name": "stdout",
     "output_type": "stream",
     "text": [
      "{'abul': 1111, 'babul': 2222, 'cabul': 3333, 'dabul': [4444, 5555]}\n"
     ]
    }
   ],
   "source": [
    "# adding a new phone number of the existing contact\n",
    "phone_contacts[\"dabul\"] = [4444,5555]\n",
    "print(phone_contacts)"
   ]
  },
  {
   "cell_type": "code",
   "execution_count": 38,
   "metadata": {},
   "outputs": [
    {
     "name": "stdout",
     "output_type": "stream",
     "text": [
      "{'abul': 1111, 'babul': 2222, 'cabul': 3333, 'dabul': [4444, 5555], 'fabul': 6666}\n"
     ]
    }
   ],
   "source": [
    "# adding a new contact\n",
    "phone_contacts[\"fabul\"] = 6666\n",
    "print(phone_contacts)"
   ]
  },
  {
   "cell_type": "code",
   "execution_count": 39,
   "metadata": {},
   "outputs": [
    {
     "name": "stdout",
     "output_type": "stream",
     "text": [
      "{'abul': 1111, 'babul': 2222, 'cabul': 3333, 'dabul': [4444, 5555], 'fabul': 6666, 'gabul': 7777}\n"
     ]
    }
   ],
   "source": [
    "# updating a dictionary\n",
    "new_dict = {\"gabul\":7777}\n",
    "phone_contacts.update(new_dict)\n",
    "print(phone_contacts)"
   ]
  },
  {
   "cell_type": "code",
   "execution_count": null,
   "metadata": {},
   "outputs": [],
   "source": []
  }
 ],
 "metadata": {
  "kernelspec": {
   "display_name": "Python 3",
   "language": "python",
   "name": "python3"
  },
  "language_info": {
   "codemirror_mode": {
    "name": "ipython",
    "version": 3
   },
   "file_extension": ".py",
   "mimetype": "text/x-python",
   "name": "python",
   "nbconvert_exporter": "python",
   "pygments_lexer": "ipython3",
   "version": "3.7.4"
  }
 },
 "nbformat": 4,
 "nbformat_minor": 2
}
