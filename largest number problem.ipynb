{
 "cells": [
  {
   "cell_type": "markdown",
   "metadata": {},
   "source": [
    "### largest number problem"
   ]
  },
  {
   "cell_type": "code",
   "execution_count": 4,
   "metadata": {},
   "outputs": [
    {
     "name": "stdout",
     "output_type": "stream",
     "text": [
      "12\n",
      "2\n",
      "5\n",
      "12  a is the largest\n"
     ]
    }
   ],
   "source": [
    "a= int(input())\n",
    "b = int(input())\n",
    "c = int(input())\n",
    "if a>=b:\n",
    "    if a>=c:\n",
    "        print(a, \" a is the largest\")\n",
    "    else:\n",
    "        print(c, \" c is the largest\")\n",
    "else:\n",
    "    if b>= c:\n",
    "        print(b, \" b is the largest\")\n",
    "    else:\n",
    "        print(c, \"c is the largest\")\n",
    "    \n",
    "    "
   ]
  },
  {
   "cell_type": "markdown",
   "metadata": {},
   "source": [
    "### Another method"
   ]
  },
  {
   "cell_type": "code",
   "execution_count": 9,
   "metadata": {},
   "outputs": [
    {
     "name": "stdout",
     "output_type": "stream",
     "text": [
      "20\n",
      "20\n",
      "10\n",
      "20 A is the largest number\n"
     ]
    }
   ],
   "source": [
    "a= int(input())\n",
    "b = int(input())\n",
    "c = int(input())\n",
    "\n",
    "if a >= b and a >= c:\n",
    "    print (a, \"A is the largest number\")\n",
    "elif b>=a and b>=c:\n",
    "    print (b, \"B is the largest number\")\n",
    "    \n",
    "else:\n",
    "    print (c, \"C is the largest number\")\n",
    "    "
   ]
  },
  {
   "cell_type": "code",
   "execution_count": null,
   "metadata": {},
   "outputs": [],
   "source": []
  }
 ],
 "metadata": {
  "kernelspec": {
   "display_name": "Python 3",
   "language": "python",
   "name": "python3"
  },
  "language_info": {
   "codemirror_mode": {
    "name": "ipython",
    "version": 3
   },
   "file_extension": ".py",
   "mimetype": "text/x-python",
   "name": "python",
   "nbconvert_exporter": "python",
   "pygments_lexer": "ipython3",
   "version": "3.7.4"
  }
 },
 "nbformat": 4,
 "nbformat_minor": 2
}
