{
 "cells": [
  {
   "cell_type": "markdown",
   "metadata": {},
   "source": [
    "#### 1. Create 3 variables to store street, city and country, now create address variable to store entire address. Use two ways of creating this variable, one using + operator and the other using f-string.Now Print the address in such a way that the street, city and country prints in a separate line"
   ]
  },
  {
   "cell_type": "code",
   "execution_count": 3,
   "metadata": {},
   "outputs": [
    {
     "name": "stdout",
     "output_type": "stream",
     "text": [
      "Address using + operator: 1212 Rampura\n",
      "Dhaka\n",
      "Bangladesh\n",
      "Address using f-string: 1212 Rampura\n",
      "Dhaka\n",
      "Bangladesh\n"
     ]
    }
   ],
   "source": [
    "street = \"1212 Rampura\"\n",
    "city = \"Dhaka\"\n",
    "country = \"Bangladesh\"\n",
    "address = street + '\\n' + city + '\\n' + country\n",
    "print(\"Address using + operator:\",address)\n",
    "address = f'{street}\\n{city}\\n{country}'\n",
    "print(\"Address using f-string:\",address)"
   ]
  },
  {
   "cell_type": "markdown",
   "metadata": {},
   "source": [
    "#### 2. Create a variable to store the string \"Earth revolves around the sun\"\n",
    "  1. Print \"revolves\" using slice operator\n",
    "  2. Print \"sun\" using negative index"
   ]
  },
  {
   "cell_type": "code",
   "execution_count": 6,
   "metadata": {},
   "outputs": [
    {
     "name": "stdout",
     "output_type": "stream",
     "text": [
      "revolves\n",
      "sun\n"
     ]
    }
   ],
   "source": [
    "s='Earth revolves around the sun'\n",
    "print(s[6:14])\n",
    "print(s[-3:])"
   ]
  },
  {
   "cell_type": "markdown",
   "metadata": {},
   "source": [
    "#### 3. Create two variables to store how many fruits and vegetables you eat in a day.\n",
    "Now Print \"I eat x veggies and y fruits daily\" where x and y presents vegetables and fruits that you eat everyday.\n",
    "Use python f string for this."
   ]
  },
  {
   "cell_type": "code",
   "execution_count": 7,
   "metadata": {},
   "outputs": [
    {
     "name": "stdout",
     "output_type": "stream",
     "text": [
      "I eat 5 veggies and 10 daily\n"
     ]
    }
   ],
   "source": [
    "num_fruits=10\n",
    "num_veggies=5\n",
    "print(f\"I eat {num_veggies} veggies and {num_fruits} daily\")"
   ]
  },
  {
   "cell_type": "markdown",
   "metadata": {},
   "source": [
    " #### 4. I have a string variable called s='maine 200 banana khaye'. This of course is a\n",
    "wrong statement, the correct statement is 'maine 10 samosa khaye'.\n",
    "\n",
    "Replace incorrect words in original strong with new ones and print the new string.\n",
    "\n",
    "Also try to do this in one line."
   ]
  },
  {
   "cell_type": "code",
   "execution_count": 8,
   "metadata": {},
   "outputs": [
    {
     "name": "stdout",
     "output_type": "stream",
     "text": [
      "Using two line replace: maine 10 samosa khaye\n",
      "Using single line: maine 10 samosa khaye\n"
     ]
    }
   ],
   "source": [
    "s='maine 200 banana khaye'\n",
    "s=s.replace('banana','samosa')\n",
    "s=s.replace('200','10')\n",
    "print(\"Using two line replace:\",s)\n",
    "\n",
    "s='maine 200 banana khaye'\n",
    "s=s.replace('banana','samosa').replace('200','10')\n",
    "print(\"Using single line:\",s)"
   ]
  }
 ],
 "metadata": {
  "kernelspec": {
   "display_name": "Python 3",
   "language": "python",
   "name": "python3"
  },
  "language_info": {
   "codemirror_mode": {
    "name": "ipython",
    "version": 3
   },
   "file_extension": ".py",
   "mimetype": "text/x-python",
   "name": "python",
   "nbconvert_exporter": "python",
   "pygments_lexer": "ipython3",
   "version": "3.7.4"
  }
 },
 "nbformat": 4,
 "nbformat_minor": 2
}
