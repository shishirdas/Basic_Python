{
 "cells": [
  {
   "cell_type": "code",
   "execution_count": 5,
   "metadata": {},
   "outputs": [
    {
     "name": "stdout",
     "output_type": "stream",
     "text": [
      "Enter your number85\n",
      "this grade is B\n"
     ]
    }
   ],
   "source": [
    "a = int(input(\"Enter your number\"))\n",
    "if a>90:\n",
    "    print(\"This grade is A\")\n",
    "elif a>80 and a<=90:\n",
    "    print(\"his grade is B\")\n",
    "elif a>60 and a<=80:\n",
    "    print(\"this grade is C\")\n",
    "else:\n",
    "    print(\"this grade is D\")"
   ]
  },
  {
   "cell_type": "code",
   "execution_count": null,
   "metadata": {},
   "outputs": [],
   "source": []
  }
 ],
 "metadata": {
  "kernelspec": {
   "display_name": "Python 3",
   "language": "python",
   "name": "python3"
  },
  "language_info": {
   "codemirror_mode": {
    "name": "ipython",
    "version": 3
   },
   "file_extension": ".py",
   "mimetype": "text/x-python",
   "name": "python",
   "nbconvert_exporter": "python",
   "pygments_lexer": "ipython3",
   "version": "3.7.4"
  }
 },
 "nbformat": 4,
 "nbformat_minor": 2
}
