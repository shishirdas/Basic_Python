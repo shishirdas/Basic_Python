{
 "cells": [
  {
   "cell_type": "code",
   "execution_count": 7,
   "metadata": {},
   "outputs": [
    {
     "name": "stdout",
     "output_type": "stream",
     "text": [
      "Nasa is hacking  0 %\n",
      "Nasa is hacking  1 %\n",
      "Nasa is hacking  2 %\n",
      "Nasa is hacking  3 %\n",
      "Nasa is hacking  4 %\n",
      "Nasa is hacking  5 %\n",
      "Nasa is hacking  6 %\n",
      "Nasa is hacking  7 %\n",
      "Nasa is hacking  8 %\n",
      "Nasa is hacking  9 %\n",
      "Nasa is hacking  10 %\n",
      "Nasa is hacking  11 %\n",
      "Nasa is hacking  12 %\n",
      "Nasa is hacking  13 %\n",
      "Nasa is hacking  14 %\n",
      "Nasa is hacking  15 %\n",
      "Nasa is hacking  16 %\n",
      "Nasa is hacking  17 %\n",
      "Nasa is hacking  18 %\n",
      "Nasa is hacking  19 %\n",
      "Nasa is hacking  20 %\n",
      "Nasa is hacking  21 %\n",
      "Nasa is hacking  22 %\n",
      "Nasa is hacking  23 %\n",
      "Nasa is hacking  24 %\n",
      "Nasa is hacking  25 %\n",
      "Nasa is hacking  26 %\n",
      "Nasa is hacking  27 %\n",
      "Nasa is hacking  28 %\n",
      "Nasa is hacking  29 %\n",
      "Nasa is hacking  30 %\n",
      "Nasa is hacking  31 %\n",
      "Nasa is hacking  32 %\n",
      "Nasa is hacking  33 %\n",
      "Nasa is hacking  34 %\n",
      "Nasa is hacking  35 %\n",
      "Nasa is hacking  36 %\n",
      "Nasa is hacking  37 %\n",
      "Nasa is hacking  38 %\n",
      "Nasa is hacking  39 %\n",
      "Nasa is hacking  40 %\n",
      "Nasa is hacking  41 %\n",
      "Nasa is hacking  42 %\n",
      "Nasa is hacking  43 %\n",
      "Nasa is hacking  44 %\n",
      "Nasa is hacking  45 %\n",
      "Nasa is hacking  46 %\n",
      "Nasa is hacking  47 %\n",
      "Nasa is hacking  48 %\n",
      "Nasa is hacking  49 %\n",
      "Nasa is hacking  50 %\n",
      "Nasa is hacking  51 %\n",
      "Nasa is hacking  52 %\n",
      "Nasa is hacking  53 %\n",
      "Nasa is hacking  54 %\n",
      "Nasa is hacking  55 %\n",
      "Nasa is hacking  56 %\n",
      "Nasa is hacking  57 %\n",
      "Nasa is hacking  58 %\n",
      "Nasa is hacking  59 %\n",
      "Nasa is hacking  60 %\n",
      "Nasa is hacking  61 %\n",
      "Nasa is hacking  62 %\n",
      "Nasa is hacking  63 %\n",
      "Nasa is hacking  64 %\n",
      "Nasa is hacking  65 %\n",
      "Nasa is hacking  66 %\n",
      "Nasa is hacking  67 %\n",
      "Nasa is hacking  68 %\n",
      "Nasa is hacking  69 %\n",
      "Nasa is hacking  70 %\n",
      "Nasa is hacking  71 %\n",
      "Nasa is hacking  72 %\n",
      "Nasa is hacking  73 %\n",
      "Nasa is hacking  74 %\n",
      "Nasa is hacking  75 %\n",
      "Nasa is hacking  76 %\n",
      "Nasa is hacking  77 %\n",
      "Nasa is hacking  78 %\n",
      "Nasa is hacking  79 %\n",
      "Nasa is hacking  80 %\n",
      "Nasa is hacking  81 %\n",
      "Nasa is hacking  82 %\n",
      "Nasa is hacking  83 %\n",
      "Nasa is hacking  84 %\n",
      "Nasa is hacking  85 %\n",
      "Nasa is hacking  86 %\n",
      "Nasa is hacking  87 %\n",
      "Nasa is hacking  88 %\n",
      "Nasa is hacking  89 %\n",
      "Nasa is hacking  90 %\n",
      "Nasa is hacking  91 %\n",
      "Nasa is hacking  92 %\n",
      "Nasa is hacking  93 %\n",
      "Nasa is hacking  94 %\n",
      "Nasa is hacking  95 %\n",
      "Nasa is hacking  96 %\n",
      "Nasa is hacking  97 %\n",
      "Nasa is hacking  98 %\n",
      "Nasa is hacking  99 %\n",
      "Nasa is hacking  100 %\n"
     ]
    }
   ],
   "source": [
    "for i in range(101):\n",
    "    print(\"Nasa is hacking \" , i,\"%\")"
   ]
  },
  {
   "cell_type": "code",
   "execution_count": 8,
   "metadata": {},
   "outputs": [
    {
     "name": "stdout",
     "output_type": "stream",
     "text": [
      "[0, 1, 2, 3, 4, 5, 6, 7, 8, 9, 10, 11, 12, 13, 14, 15, 16, 17, 18, 19]\n"
     ]
    }
   ],
   "source": [
    "a= list(range(20))\n",
    "print(a)"
   ]
  },
  {
   "cell_type": "code",
   "execution_count": 11,
   "metadata": {},
   "outputs": [
    {
     "name": "stdout",
     "output_type": "stream",
     "text": [
      "[1, 2, 3, 4, 5, 6, 7, 8, 9, 10, 11, 12, 13, 14, 15, 16, 17, 18, 19]\n"
     ]
    }
   ],
   "source": [
    "b= list(range(1,20))\n",
    "print(b)"
   ]
  },
  {
   "cell_type": "code",
   "execution_count": 12,
   "metadata": {},
   "outputs": [
    {
     "name": "stdout",
     "output_type": "stream",
     "text": [
      "[0, 2, 4, 6, 8, 10, 12, 14, 16, 18, 20, 22, 24, 26, 28, 30, 32, 34, 36, 38, 40, 42, 44, 46, 48, 50, 52, 54, 56, 58, 60, 62, 64, 66, 68, 70, 72, 74, 76, 78, 80, 82, 84, 86, 88, 90, 92, 94, 96, 98]\n"
     ]
    }
   ],
   "source": [
    "c= list(range(0,100,2))\n",
    "print(c)"
   ]
  },
  {
   "cell_type": "code",
   "execution_count": 16,
   "metadata": {},
   "outputs": [
    {
     "name": "stdout",
     "output_type": "stream",
     "text": [
      "[20, 18, 16, 14, 12, 10, 8, 6, 4, 2]\n"
     ]
    }
   ],
   "source": [
    "d= list(range(20,1,-2))\n",
    "print(d)"
   ]
  },
  {
   "cell_type": "code",
   "execution_count": 17,
   "metadata": {},
   "outputs": [
    {
     "name": "stdout",
     "output_type": "stream",
     "text": [
      "H\n",
      "e\n",
      "l\n",
      "l\n",
      "o\n",
      " \n",
      "w\n",
      "o\n",
      "r\n",
      "l\n",
      "d\n"
     ]
    }
   ],
   "source": [
    "a= \"Hello world\"\n",
    "for x in a:\n",
    "    print(x)"
   ]
  },
  {
   "cell_type": "code",
   "execution_count": 18,
   "metadata": {},
   "outputs": [
    {
     "name": "stdout",
     "output_type": "stream",
     "text": [
      "alu\n",
      "sobji\n",
      "dal\n",
      "2\n",
      "25\n",
      "2.5\n"
     ]
    }
   ],
   "source": [
    "bag = [\"alu\",\"sobji\",\"dal\",2,25,2.5]\n",
    "for i in bag:\n",
    "    print(i)"
   ]
  },
  {
   "cell_type": "code",
   "execution_count": 19,
   "metadata": {},
   "outputs": [
    {
     "name": "stdout",
     "output_type": "stream",
     "text": [
      "2\n",
      "10\n",
      "5\n",
      "6\n",
      "2.5\n",
      "-8\n",
      "0\n",
      "3\n"
     ]
    }
   ],
   "source": [
    "lst = [2,45,20,10,5,6,2.5,-8,0,3]\n",
    "for i in lst:\n",
    "    if i<=10:\n",
    "        print(i)"
   ]
  },
  {
   "cell_type": "markdown",
   "metadata": {},
   "source": [
    "### 3 and 5 divisble bahir korar problem"
   ]
  },
  {
   "cell_type": "code",
   "execution_count": 21,
   "metadata": {},
   "outputs": [
    {
     "name": "stdout",
     "output_type": "stream",
     "text": [
      "0\n",
      "15\n",
      "30\n",
      "45\n",
      "60\n",
      "75\n",
      "90\n"
     ]
    }
   ],
   "source": [
    "for i in range(100):\n",
    "    if i %3 ==0 and i%5==0:\n",
    "        print(i)\n"
   ]
  },
  {
   "cell_type": "markdown",
   "metadata": {},
   "source": [
    "### 1+2+3+4+5+.... problem sum "
   ]
  },
  {
   "cell_type": "code",
   "execution_count": null,
   "metadata": {},
   "outputs": [],
   "source": [
    "sum =0\n",
    "for i in range(1,5):\n",
    "    sum = sum+i"
   ]
  }
 ],
 "metadata": {
  "kernelspec": {
   "display_name": "Python 3",
   "language": "python",
   "name": "python3"
  },
  "language_info": {
   "codemirror_mode": {
    "name": "ipython",
    "version": 3
   },
   "file_extension": ".py",
   "mimetype": "text/x-python",
   "name": "python",
   "nbconvert_exporter": "python",
   "pygments_lexer": "ipython3",
   "version": "3.7.4"
  }
 },
 "nbformat": 4,
 "nbformat_minor": 2
}
