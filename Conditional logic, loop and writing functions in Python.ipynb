{
 "cells": [
  {
   "cell_type": "markdown",
   "metadata": {},
   "source": [
    "#####  For Loop"
   ]
  },
  {
   "cell_type": "code",
   "execution_count": 1,
   "metadata": {},
   "outputs": [
    {
     "name": "stdout",
     "output_type": "stream",
     "text": [
      "element =  1 square_value =  1 [1]\n",
      "element =  2 square_value =  4 [1, 4]\n",
      "element =  3 square_value =  9 [1, 4, 9]\n",
      "element =  4 square_value =  16 [1, 4, 9, 16]\n",
      "element =  5 square_value =  25 [1, 4, 9, 16, 25]\n",
      "element =  11 square_value =  121 [1, 4, 9, 16, 25, 121]\n",
      "element =  12 square_value =  144 [1, 4, 9, 16, 25, 121, 144]\n",
      "element =  13 square_value =  169 [1, 4, 9, 16, 25, 121, 144, 169]\n",
      "element =  14 square_value =  196 [1, 4, 9, 16, 25, 121, 144, 169, 196]\n",
      "element =  15 square_value =  225 [1, 4, 9, 16, 25, 121, 144, 169, 196, 225]\n",
      "[1, 4, 9, 16, 25, 121, 144, 169, 196, 225]\n",
      "<class 'list'>\n"
     ]
    }
   ],
   "source": [
    "nums = [1,2,3,4,5,11,12,13,14,15] #input\n",
    "\n",
    "square_list = []\n",
    "\n",
    "for element in nums:\n",
    "    square_value = element*element\n",
    "    square_list.append(square_value)\n",
    "    print(\"element = \", element, \"square_value = \", square_value, square_list)\n",
    "\n",
    "print(square_list)\n",
    "    \n",
    "print(type(square_list))"
   ]
  },
  {
   "cell_type": "markdown",
   "metadata": {},
   "source": [
    "#### Writing Functions\n"
   ]
  },
  {
   "cell_type": "code",
   "execution_count": 3,
   "metadata": {},
   "outputs": [
    {
     "data": {
      "text/plain": [
       "2"
      ]
     },
     "execution_count": 3,
     "metadata": {},
     "output_type": "execute_result"
    }
   ],
   "source": [
    "def multiply_numbers(a, b):\n",
    "    \n",
    "    total_sum = a*b\n",
    "    \n",
    "    return total_sum\n",
    "multiply_numbers(1,2)"
   ]
  },
  {
   "cell_type": "code",
   "execution_count": 4,
   "metadata": {},
   "outputs": [
    {
     "data": {
      "text/plain": [
       "25000"
      ]
     },
     "execution_count": 4,
     "metadata": {},
     "output_type": "execute_result"
    }
   ],
   "source": [
    "multiply_numbers(100,250)"
   ]
  },
  {
   "cell_type": "code",
   "execution_count": 5,
   "metadata": {},
   "outputs": [
    {
     "data": {
      "text/plain": [
       "2.76"
      ]
     },
     "execution_count": 5,
     "metadata": {},
     "output_type": "execute_result"
    }
   ],
   "source": [
    "multiply_numbers(1.2,2.3)"
   ]
  },
  {
   "cell_type": "code",
   "execution_count": 6,
   "metadata": {},
   "outputs": [],
   "source": [
    "def square_elements(input_list):\n",
    "    \n",
    "    square_list = []\n",
    "\n",
    "    for element in input_list:\n",
    "        square_value = element*element\n",
    "        square_list.append(square_value)\n",
    "        print(\"element = \", element, \"square_value = \", square_value, square_list)\n",
    "        \n",
    "    return square_list"
   ]
  },
  {
   "cell_type": "code",
   "execution_count": 7,
   "metadata": {},
   "outputs": [
    {
     "name": "stdout",
     "output_type": "stream",
     "text": [
      "element =  1 square_value =  1 [1]\n",
      "element =  2 square_value =  4 [1, 4]\n",
      "element =  3 square_value =  9 [1, 4, 9]\n",
      "element =  4 square_value =  16 [1, 4, 9, 16]\n",
      "element =  5 square_value =  25 [1, 4, 9, 16, 25]\n"
     ]
    },
    {
     "data": {
      "text/plain": [
       "[1, 4, 9, 16, 25]"
      ]
     },
     "execution_count": 7,
     "metadata": {},
     "output_type": "execute_result"
    }
   ],
   "source": [
    "square_elements([1,2,3,4,5])"
   ]
  },
  {
   "cell_type": "code",
   "execution_count": 8,
   "metadata": {},
   "outputs": [
    {
     "name": "stdout",
     "output_type": "stream",
     "text": [
      "element =  -1 square_value =  1 [1]\n",
      "element =  2 square_value =  4 [1, 4]\n",
      "element =  4 square_value =  16 [1, 4, 16]\n",
      "element =  0 square_value =  0 [1, 4, 16, 0]\n",
      "element =  100 square_value =  10000 [1, 4, 16, 0, 10000]\n"
     ]
    },
    {
     "data": {
      "text/plain": [
       "[1, 4, 16, 0, 10000]"
      ]
     },
     "execution_count": 8,
     "metadata": {},
     "output_type": "execute_result"
    }
   ],
   "source": [
    "square_elements([-1,2,4,0,100])"
   ]
  },
  {
   "cell_type": "markdown",
   "metadata": {},
   "source": [
    "### Even or odd\n"
   ]
  },
  {
   "cell_type": "code",
   "execution_count": 9,
   "metadata": {},
   "outputs": [
    {
     "name": "stdout",
     "output_type": "stream",
     "text": [
      "0 even = True\n",
      "1 even = False\n",
      "2 even = True\n",
      "3 even = False\n",
      "4 even = True\n",
      "5 even = False\n",
      "6 even = True\n",
      "7 even = False\n",
      "8 even = True\n",
      "9 even = False\n"
     ]
    }
   ],
   "source": [
    "for i in range(0,10):\n",
    "    if i%2 == 0:\n",
    "        print(i, \"even = True\")\n",
    "    else:\n",
    "        print(i, \"even = False\")"
   ]
  },
  {
   "cell_type": "markdown",
   "metadata": {},
   "source": [
    "#### Example of while condition\n"
   ]
  },
  {
   "cell_type": "code",
   "execution_count": 10,
   "metadata": {},
   "outputs": [
    {
     "name": "stdout",
     "output_type": "stream",
     "text": [
      "0\n",
      "Hello Geek\n",
      "1\n",
      "Hello Geek\n",
      "2\n",
      "Hello Geek\n"
     ]
    }
   ],
   "source": [
    "count = 0\n",
    "while count < 3:   \n",
    "    print(count)\n",
    "    count = count + 1\n",
    "    print(\"Hello Geek\")"
   ]
  },
  {
   "cell_type": "markdown",
   "metadata": {},
   "source": [
    "#### example: if-else"
   ]
  },
  {
   "cell_type": "code",
   "execution_count": 11,
   "metadata": {},
   "outputs": [
    {
     "name": "stdout",
     "output_type": "stream",
     "text": [
      "0 divisible by 2\n",
      "0 divisible by 3\n",
      "0 divisible by 4\n",
      "0 divisible by 2 and 4\n",
      "1 not divisible 2\n",
      "1 not divisible 3\n",
      "1 not divisible 4\n",
      "1 not divisible 2 and 4\n",
      "2 divisible by 2\n",
      "2 not divisible 3\n",
      "2 not divisible 4\n",
      "2 not divisible 2 and 4\n",
      "3 not divisible 2\n",
      "3 divisible by 3\n",
      "3 not divisible 4\n",
      "3 not divisible 2 and 4\n",
      "4 divisible by 2\n",
      "4 not divisible 3\n",
      "4 divisible by 4\n",
      "4 divisible by 2 and 4\n",
      "5 not divisible 2\n",
      "5 not divisible 3\n",
      "5 not divisible 4\n",
      "5 not divisible 2 and 4\n",
      "6 divisible by 2\n",
      "6 divisible by 3\n",
      "6 not divisible 4\n",
      "6 not divisible 2 and 4\n",
      "7 not divisible 2\n",
      "7 not divisible 3\n",
      "7 not divisible 4\n",
      "7 not divisible 2 and 4\n",
      "8 divisible by 2\n",
      "8 not divisible 3\n",
      "8 divisible by 4\n",
      "8 divisible by 2 and 4\n",
      "9 not divisible 2\n",
      "9 divisible by 3\n",
      "9 not divisible 4\n",
      "9 not divisible 2 and 4\n"
     ]
    }
   ],
   "source": [
    "for i in range(0,10,1):\n",
    "    \n",
    "    # 0,2,4,6,8\n",
    "    if i%2 == 0:\n",
    "        print(i, \"divisible by 2\")\n",
    "    else:\n",
    "        print(i, \"not divisible 2\")\n",
    "        \n",
    "    # 3,6,9\n",
    "    if i%3 == 0:\n",
    "        print(i, \"divisible by 3\")\n",
    "    else:\n",
    "        print(i, \"not divisible 3\")\n",
    "        \n",
    "    # 4, 8\n",
    "    if i%4 == 0:\n",
    "        print(i, \"divisible by 4\")\n",
    "    else:\n",
    "        print(i, \"not divisible 4\")\n",
    "        \n",
    "    if i%2 == 0 and i%4 == 0:\n",
    "        print(i, \"divisible by 2 and 4\")\n",
    "    else:\n",
    "        print(i, \"not divisible 2 and 4\")"
   ]
  },
  {
   "cell_type": "markdown",
   "metadata": {},
   "source": [
    "#### Example of cumulative sum using for loop\n"
   ]
  },
  {
   "cell_type": "code",
   "execution_count": 12,
   "metadata": {},
   "outputs": [
    {
     "name": "stdout",
     "output_type": "stream",
     "text": [
      "i =  0 i+1 =  1 num =  [1] sum =  1\n",
      "i =  1 i+1 =  2 num =  [1, 2] sum =  3\n",
      "i =  2 i+1 =  3 num =  [1, 2, 3] sum =  6\n",
      "i =  3 i+1 =  4 num =  [1, 2, 3, 4] sum =  10\n",
      "i =  4 i+1 =  5 num =  [1, 2, 3, 4, 5] sum =  15\n",
      "[1, 3, 6, 10, 15]\n"
     ]
    }
   ],
   "source": [
    "nums = [1,2,3,4,5]\n",
    "sum_list = []\n",
    "\n",
    "for i in range(len(nums)):\n",
    "    print(\"i = \", i,  \"i+1 = \", i+1, \"num = \", nums[:i+1], \"sum = \", sum(nums[:i+1]))\n",
    "    \n",
    "    sum_list.append(sum(nums[:i+1]))\n",
    "\n",
    "print(sum_list)"
   ]
  },
  {
   "cell_type": "code",
   "execution_count": null,
   "metadata": {},
   "outputs": [],
   "source": []
  }
 ],
 "metadata": {
  "kernelspec": {
   "display_name": "Python 3",
   "language": "python",
   "name": "python3"
  },
  "language_info": {
   "codemirror_mode": {
    "name": "ipython",
    "version": 3
   },
   "file_extension": ".py",
   "mimetype": "text/x-python",
   "name": "python",
   "nbconvert_exporter": "python",
   "pygments_lexer": "ipython3",
   "version": "3.7.4"
  }
 },
 "nbformat": 4,
 "nbformat_minor": 2
}
