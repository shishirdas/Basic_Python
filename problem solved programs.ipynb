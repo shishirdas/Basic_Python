{
 "cells": [
  {
   "cell_type": "markdown",
   "metadata": {},
   "source": [
    "### Simple Problem Solving using Loop - Namta Print"
   ]
  },
  {
   "cell_type": "code",
   "execution_count": 1,
   "metadata": {},
   "outputs": [
    {
     "name": "stdout",
     "output_type": "stream",
     "text": [
      "Enter your number : 10\n",
      "10 X 1 == 10\n",
      "10 X 2 == 20\n",
      "10 X 3 == 30\n",
      "10 X 4 == 40\n",
      "10 X 5 == 50\n",
      "10 X 6 == 60\n",
      "10 X 7 == 70\n",
      "10 X 8 == 80\n",
      "10 X 9 == 90\n",
      "10 X 10 == 100\n"
     ]
    }
   ],
   "source": [
    "a = int(input(\"Enter your number : \"))\n",
    "for i in range (1,11):\n",
    "    print(a, \"X\",i ,\"==\",a*i)"
   ]
  },
  {
   "cell_type": "markdown",
   "metadata": {},
   "source": [
    "### Simple Problem Solving using Loop - Factorial of a Number"
   ]
  },
  {
   "cell_type": "code",
   "execution_count": 6,
   "metadata": {},
   "outputs": [
    {
     "name": "stdout",
     "output_type": "stream",
     "text": [
      "Enter your number : 5\n",
      "1\n",
      "2\n",
      "6\n",
      "24\n",
      "120\n",
      "120\n"
     ]
    }
   ],
   "source": [
    "a = int(input(\"Enter your number : \"))\n",
    "fact = 1\n",
    "for i in range (1,a+1):\n",
    "    fact = fact*i\n",
    "    print(fact)\n",
    "print(fact)"
   ]
  },
  {
   "cell_type": "markdown",
   "metadata": {},
   "source": [
    "### Simple Problem Solving using Loop - Fibonacci Series"
   ]
  },
  {
   "cell_type": "code",
   "execution_count": 7,
   "metadata": {},
   "outputs": [
    {
     "name": "stdout",
     "output_type": "stream",
     "text": [
      "0 1 1 2 3 5 8 13 21 34 "
     ]
    }
   ],
   "source": [
    "a=0\n",
    "b=1\n",
    "for i in range(10):\n",
    "    print(a,end=\" \")\n",
    "    result = a+b\n",
    "    a = b\n",
    "    b = result\n",
    "    \n",
    "    "
   ]
  },
  {
   "cell_type": "code",
   "execution_count": null,
   "metadata": {},
   "outputs": [],
   "source": []
  }
 ],
 "metadata": {
  "kernelspec": {
   "display_name": "Python 3",
   "language": "python",
   "name": "python3"
  },
  "language_info": {
   "codemirror_mode": {
    "name": "ipython",
    "version": 3
   },
   "file_extension": ".py",
   "mimetype": "text/x-python",
   "name": "python",
   "nbconvert_exporter": "python",
   "pygments_lexer": "ipython3",
   "version": "3.7.4"
  }
 },
 "nbformat": 4,
 "nbformat_minor": 2
}
