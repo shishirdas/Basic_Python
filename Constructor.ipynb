{
 "cells": [
  {
   "cell_type": "code",
   "execution_count": 4,
   "metadata": {},
   "outputs": [
    {
     "name": "stdout",
     "output_type": "stream",
     "text": [
      "Enter email: adam@testmail.com\n",
      "Enter password: 12345\n",
      "Login Successful!\n",
      "Adam - adam@testmail.com\n",
      "shishir\n"
     ]
    }
   ],
   "source": [
    "class User:\n",
    "    name = ''\n",
    "    email = ''\n",
    "    password = ''\n",
    "    login = False\n",
    " \n",
    "    def __init__(self, name, email, password):\n",
    "        self.name = name\n",
    "        self.email = email\n",
    "        self.password = password\n",
    " \n",
    "    def login(self):\n",
    "        email =input(\"Enter email: \")\n",
    "        password = input(\"Enter password: \")\n",
    " \n",
    "        if email == self.email and password == self.password:\n",
    "            self.login = True\n",
    "            print(\"Login Successful!\")\n",
    "        else:\n",
    "            print(\"Login Failed!\")\n",
    " \n",
    "    def logout(self):\n",
    "        self.login = False\n",
    "        print(\"Logged Out!\")\n",
    " \n",
    "    def isLoggedIn(self):\n",
    "        if self.login == True:\n",
    "            return True\n",
    "        else:\n",
    "            return False\n",
    " \n",
    "    def profle(self):\n",
    "        if self.isLoggedIn():\n",
    "            print(self.name,\"-\",self.email)\n",
    "        else:\n",
    "            print(\"User is not Logged in!\")\n",
    " \n",
    "user1 = User(\"Adam\", \"adam@testmail.com\",\"12345\") \n",
    "\n",
    "\n",
    " \n",
    "user1.login()\n",
    "user1.profle()\n",
    " \n",
    " \n",
    "hello = input()"
   ]
  },
  {
   "cell_type": "code",
   "execution_count": null,
   "metadata": {},
   "outputs": [],
   "source": []
  }
 ],
 "metadata": {
  "kernelspec": {
   "display_name": "Python 3",
   "language": "python",
   "name": "python3"
  },
  "language_info": {
   "codemirror_mode": {
    "name": "ipython",
    "version": 3
   },
   "file_extension": ".py",
   "mimetype": "text/x-python",
   "name": "python",
   "nbconvert_exporter": "python",
   "pygments_lexer": "ipython3",
   "version": "3.7.4"
  }
 },
 "nbformat": 4,
 "nbformat_minor": 2
}
