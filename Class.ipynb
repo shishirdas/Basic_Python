{
 "cells": [
  {
   "cell_type": "code",
   "execution_count": 1,
   "metadata": {},
   "outputs": [
    {
     "name": "stdout",
     "output_type": "stream",
     "text": [
      "Enter email :shishirchandradas@gmail.com\n",
      "Enter your password :12345\n",
      "Login Successful\n",
      "shishir - shishirchandradas@gmail.com\n"
     ]
    }
   ],
   "source": [
    "class user:\n",
    "    name=\"\"\n",
    "    email=\"\"\n",
    "    password=\"\"\n",
    "    login= False\n",
    "    def login(self):\n",
    "        email = input(\"Enter email :\")\n",
    "        password = input(\"Enter your password :\")\n",
    "        if email == self.email and password == self.password:\n",
    "            login=True\n",
    "            print(\"Login Successful\")\n",
    "        else:\n",
    "            print(\"Not Successful\")\n",
    "    def logout(self):\n",
    "        login= False\n",
    "        print(\"Loged out \")\n",
    "    def isLoggedIn (self):\n",
    "        if self.login:\n",
    "            return True\n",
    "        else:\n",
    "            return False\n",
    "    def profle(self):\n",
    "        if self.isLoggedIn():\n",
    "            print(self.name,\"-\",self.email)\n",
    "        else:\n",
    "            print(\"User not login\")\n",
    "            \n",
    "user1 = user()\n",
    "user1.name= \"shishir\"\n",
    "user1.email=\"shishirchandradas@gmail.com\"\n",
    "user1.password=\"12345\"\n",
    "\n",
    "user1.login()\n",
    "user1.profle()\n"
   ]
  },
  {
   "cell_type": "code",
   "execution_count": null,
   "metadata": {},
   "outputs": [],
   "source": []
  },
  {
   "cell_type": "code",
   "execution_count": null,
   "metadata": {},
   "outputs": [],
   "source": []
  },
  {
   "cell_type": "code",
   "execution_count": null,
   "metadata": {},
   "outputs": [],
   "source": []
  }
 ],
 "metadata": {
  "kernelspec": {
   "display_name": "Python 3",
   "language": "python",
   "name": "python3"
  },
  "language_info": {
   "codemirror_mode": {
    "name": "ipython",
    "version": 3
   },
   "file_extension": ".py",
   "mimetype": "text/x-python",
   "name": "python",
   "nbconvert_exporter": "python",
   "pygments_lexer": "ipython3",
   "version": "3.7.4"
  }
 },
 "nbformat": 4,
 "nbformat_minor": 2
}
