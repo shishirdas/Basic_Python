{
 "cells": [
  {
   "cell_type": "code",
   "execution_count": 2,
   "metadata": {},
   "outputs": [
    {
     "name": "stdout",
     "output_type": "stream",
     "text": [
      "i am  shishir .i am 25 years old.\n"
     ]
    }
   ],
   "source": [
    "name = \"shishir\"\n",
    "age = 25\n",
    "template_string = \"i am  {} .i am {} years old.\".format(name,age)\n",
    "print(template_string)"
   ]
  },
  {
   "cell_type": "markdown",
   "metadata": {},
   "source": [
    "### String Concatenation\n"
   ]
  },
  {
   "cell_type": "code",
   "execution_count": 6,
   "metadata": {},
   "outputs": [
    {
     "name": "stdout",
     "output_type": "stream",
     "text": [
      "Hello world, Python\n"
     ]
    }
   ],
   "source": [
    "a = \"Hello world\"\n",
    "b = \"Python\"\n",
    "c = a+\", \"+b\n",
    "print(c)"
   ]
  },
  {
   "cell_type": "markdown",
   "metadata": {},
   "source": [
    "#### palimdom string problem check"
   ]
  },
  {
   "cell_type": "code",
   "execution_count": 8,
   "metadata": {},
   "outputs": [
    {
     "name": "stdout",
     "output_type": "stream",
     "text": [
      "Enter the name: Shishi\n",
      "No\n"
     ]
    }
   ],
   "source": [
    "a = input(\"Enter the name: \")\n",
    "if a==a[::-1]:\n",
    "    print(\"Yes\")\n",
    "else:\n",
    "    print(\"No\")"
   ]
  },
  {
   "cell_type": "markdown",
   "metadata": {},
   "source": [
    "### String Reversing using list\n",
    "\n",
    "Input: I love coding Using Python<br>\n",
    "\n",
    "Output:I evol gnidoc gnisu nohtyp"
   ]
  },
  {
   "cell_type": "code",
   "execution_count": 11,
   "metadata": {},
   "outputs": [
    {
     "name": "stdout",
     "output_type": "stream",
     "text": [
      "  I love coding Using Python\n",
      " I evol gnidoc gnisU nohtyP \n"
     ]
    }
   ],
   "source": [
    "a = input(\" \")\n",
    "a = a.split(\" \")\n",
    "result = \"\"\n",
    "for i in a:\n",
    "    result = result + i[::-1] + \" \"\n",
    "print(result)\n",
    "    \n",
    "    "
   ]
  },
  {
   "cell_type": "code",
   "execution_count": null,
   "metadata": {},
   "outputs": [],
   "source": []
  }
 ],
 "metadata": {
  "kernelspec": {
   "display_name": "Python 3",
   "language": "python",
   "name": "python3"
  },
  "language_info": {
   "codemirror_mode": {
    "name": "ipython",
    "version": 3
   },
   "file_extension": ".py",
   "mimetype": "text/x-python",
   "name": "python",
   "nbconvert_exporter": "python",
   "pygments_lexer": "ipython3",
   "version": "3.7.4"
  }
 },
 "nbformat": 4,
 "nbformat_minor": 2
}
