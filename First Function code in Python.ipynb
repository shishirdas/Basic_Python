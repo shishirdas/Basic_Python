{
 "cells": [
  {
   "cell_type": "code",
   "execution_count": 1,
   "metadata": {},
   "outputs": [
    {
     "name": "stdout",
     "output_type": "stream",
     "text": [
      "Hello, Good Morning\n"
     ]
    }
   ],
   "source": [
    "def gratting():\n",
    "    print(\"Hello, Good Morning\")\n",
    "gratting()"
   ]
  },
  {
   "cell_type": "code",
   "execution_count": 2,
   "metadata": {},
   "outputs": [
    {
     "name": "stdout",
     "output_type": "stream",
     "text": [
      "Hello, Good Morning\n",
      "Hello, Good Morning\n"
     ]
    }
   ],
   "source": [
    "gratting()\n",
    "gratting()"
   ]
  },
  {
   "cell_type": "code",
   "execution_count": 3,
   "metadata": {},
   "outputs": [
    {
     "name": "stdout",
     "output_type": "stream",
     "text": [
      "The summation of 2 and 3 = 5\n"
     ]
    }
   ],
   "source": [
    "def sum(a,b):\n",
    "    print(f\"The summation of {a } and {b} = {a+b}\")\n",
    "sum(2,3)"
   ]
  },
  {
   "cell_type": "code",
   "execution_count": 4,
   "metadata": {},
   "outputs": [
    {
     "name": "stdout",
     "output_type": "stream",
     "text": [
      "The summation of 12 and 3 = 15\n",
      "The summation of 20 and 3 = 23\n",
      "The summation of 2 and 34 = 36\n"
     ]
    }
   ],
   "source": [
    "sum(12,3)\n",
    "sum(20,3)\n",
    "sum(2,34)"
   ]
  },
  {
   "cell_type": "code",
   "execution_count": 7,
   "metadata": {},
   "outputs": [
    {
     "name": "stdout",
     "output_type": "stream",
     "text": [
      "hello shishir. yor are 32 years old\n"
     ]
    }
   ],
   "source": [
    "def grat(name=\"shishir\",age=\"32\"):\n",
    "    \n",
    "    print(f\"hello {name}. yor are {age} years old\")\n",
    "grat()"
   ]
  },
  {
   "cell_type": "code",
   "execution_count": 11,
   "metadata": {},
   "outputs": [
    {
     "name": "stdout",
     "output_type": "stream",
     "text": [
      "hello karim. yor are 45 years old\n",
      "hello shishir. yor are 32 years old\n"
     ]
    }
   ],
   "source": [
    "grat(\"karim\",45)\n",
    "grat()"
   ]
  },
  {
   "cell_type": "code",
   "execution_count": 12,
   "metadata": {},
   "outputs": [
    {
     "name": "stdout",
     "output_type": "stream",
     "text": [
      "enter your number  :25\n",
      "enter your number  :15\n",
      "40\n"
     ]
    }
   ],
   "source": [
    "def sum():\n",
    "    a = int(input(\"enter your number  :\"))\n",
    "    b = int(input(\"enter your number  :\"))\n",
    "    print(a+b)\n",
    "sum()"
   ]
  },
  {
   "cell_type": "markdown",
   "metadata": {},
   "source": [
    "#### Function with no argument but return value in Python"
   ]
  },
  {
   "cell_type": "code",
   "execution_count": 13,
   "metadata": {},
   "outputs": [
    {
     "name": "stdout",
     "output_type": "stream",
     "text": [
      "enter your number  :10\n",
      "enter your number  :5\n",
      "120\n"
     ]
    }
   ],
   "source": [
    "def addiction():\n",
    "    a = int(input(\"enter your number  :\"))\n",
    "    b = int(input(\"enter your number  :\"))\n",
    "    return a+b\n",
    "result= addiction()\n",
    "print(result*8)"
   ]
  },
  {
   "cell_type": "code",
   "execution_count": null,
   "metadata": {},
   "outputs": [],
   "source": []
  }
 ],
 "metadata": {
  "kernelspec": {
   "display_name": "Python 3",
   "language": "python",
   "name": "python3"
  },
  "language_info": {
   "codemirror_mode": {
    "name": "ipython",
    "version": 3
   },
   "file_extension": ".py",
   "mimetype": "text/x-python",
   "name": "python",
   "nbconvert_exporter": "python",
   "pygments_lexer": "ipython3",
   "version": "3.7.4"
  }
 },
 "nbformat": 4,
 "nbformat_minor": 2
}
