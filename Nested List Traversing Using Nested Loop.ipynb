{
 "cells": [
  {
   "cell_type": "code",
   "execution_count": 2,
   "metadata": {},
   "outputs": [
    {
     "name": "stdout",
     "output_type": "stream",
     "text": [
      "alu\n",
      "sobji\n",
      "oil\n",
      "2.5\n",
      "78\n",
      "52\n",
      "pi\n",
      "25\n",
      "3.5\n",
      "78\n",
      "58\n"
     ]
    }
   ],
   "source": [
    "bazer_lst= [[\"alu\",\"sobji\",\"oil\"],[2.5,78,52],[\"pi\",25, 3.5 ],[78,58]]\n",
    "\n",
    "for item in bazer_lst:\n",
    "    for choto_item in item:\n",
    "        print (choto_item)"
   ]
  },
  {
   "cell_type": "code",
   "execution_count": null,
   "metadata": {},
   "outputs": [],
   "source": []
  }
 ],
 "metadata": {
  "kernelspec": {
   "display_name": "Python 3",
   "language": "python",
   "name": "python3"
  },
  "language_info": {
   "codemirror_mode": {
    "name": "ipython",
    "version": 3
   },
   "file_extension": ".py",
   "mimetype": "text/x-python",
   "name": "python",
   "nbconvert_exporter": "python",
   "pygments_lexer": "ipython3",
   "version": "3.7.4"
  }
 },
 "nbformat": 4,
 "nbformat_minor": 2
}
